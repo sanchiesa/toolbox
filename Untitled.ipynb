{
 "cells": [
  {
   "cell_type": "code",
   "execution_count": 1,
   "id": "encouraging-witness",
   "metadata": {},
   "outputs": [],
   "source": [
    "import pandas as pd\n",
    "import numpy as np\n",
    "df = pd.DataFrame(np.random.randn(1000, 5), columns=list('ABCDE'))"
   ]
  },
  {
   "cell_type": "code",
   "execution_count": 2,
   "id": "educated-madrid",
   "metadata": {},
   "outputs": [
    {
     "data": {
      "text/html": [
       "<div>\n",
       "<style scoped>\n",
       "    .dataframe tbody tr th:only-of-type {\n",
       "        vertical-align: middle;\n",
       "    }\n",
       "\n",
       "    .dataframe tbody tr th {\n",
       "        vertical-align: top;\n",
       "    }\n",
       "\n",
       "    .dataframe thead th {\n",
       "        text-align: right;\n",
       "    }\n",
       "</style>\n",
       "<table border=\"1\" class=\"dataframe\">\n",
       "  <thead>\n",
       "    <tr style=\"text-align: right;\">\n",
       "      <th></th>\n",
       "      <th>A</th>\n",
       "      <th>B</th>\n",
       "      <th>C</th>\n",
       "      <th>D</th>\n",
       "      <th>E</th>\n",
       "    </tr>\n",
       "  </thead>\n",
       "  <tbody>\n",
       "    <tr>\n",
       "      <th>0</th>\n",
       "      <td>-1.470293</td>\n",
       "      <td>-1.525118</td>\n",
       "      <td>0.836008</td>\n",
       "      <td>0.433634</td>\n",
       "      <td>0.071003</td>\n",
       "    </tr>\n",
       "    <tr>\n",
       "      <th>1</th>\n",
       "      <td>-0.208723</td>\n",
       "      <td>-0.563710</td>\n",
       "      <td>-1.187523</td>\n",
       "      <td>-0.102120</td>\n",
       "      <td>-0.643111</td>\n",
       "    </tr>\n",
       "    <tr>\n",
       "      <th>2</th>\n",
       "      <td>0.006831</td>\n",
       "      <td>-1.297260</td>\n",
       "      <td>0.847801</td>\n",
       "      <td>-0.202340</td>\n",
       "      <td>0.497309</td>\n",
       "    </tr>\n",
       "    <tr>\n",
       "      <th>3</th>\n",
       "      <td>1.184229</td>\n",
       "      <td>-0.479856</td>\n",
       "      <td>-0.860750</td>\n",
       "      <td>0.099028</td>\n",
       "      <td>-0.349157</td>\n",
       "    </tr>\n",
       "    <tr>\n",
       "      <th>4</th>\n",
       "      <td>-0.697772</td>\n",
       "      <td>-0.400648</td>\n",
       "      <td>0.985094</td>\n",
       "      <td>-0.634655</td>\n",
       "      <td>-0.025595</td>\n",
       "    </tr>\n",
       "    <tr>\n",
       "      <th>...</th>\n",
       "      <td>...</td>\n",
       "      <td>...</td>\n",
       "      <td>...</td>\n",
       "      <td>...</td>\n",
       "      <td>...</td>\n",
       "    </tr>\n",
       "    <tr>\n",
       "      <th>995</th>\n",
       "      <td>0.103614</td>\n",
       "      <td>0.563295</td>\n",
       "      <td>-0.743256</td>\n",
       "      <td>0.580323</td>\n",
       "      <td>0.826171</td>\n",
       "    </tr>\n",
       "    <tr>\n",
       "      <th>996</th>\n",
       "      <td>0.304813</td>\n",
       "      <td>0.612072</td>\n",
       "      <td>0.158199</td>\n",
       "      <td>-0.520818</td>\n",
       "      <td>-0.389017</td>\n",
       "    </tr>\n",
       "    <tr>\n",
       "      <th>997</th>\n",
       "      <td>0.105779</td>\n",
       "      <td>-0.249088</td>\n",
       "      <td>-2.553960</td>\n",
       "      <td>1.087293</td>\n",
       "      <td>-0.236849</td>\n",
       "    </tr>\n",
       "    <tr>\n",
       "      <th>998</th>\n",
       "      <td>1.566812</td>\n",
       "      <td>-0.743941</td>\n",
       "      <td>0.853120</td>\n",
       "      <td>0.099963</td>\n",
       "      <td>-0.405797</td>\n",
       "    </tr>\n",
       "    <tr>\n",
       "      <th>999</th>\n",
       "      <td>0.503130</td>\n",
       "      <td>0.541977</td>\n",
       "      <td>-0.179517</td>\n",
       "      <td>0.742298</td>\n",
       "      <td>0.467929</td>\n",
       "    </tr>\n",
       "  </tbody>\n",
       "</table>\n",
       "<p>1000 rows × 5 columns</p>\n",
       "</div>"
      ],
      "text/plain": [
       "            A         B         C         D         E\n",
       "0   -1.470293 -1.525118  0.836008  0.433634  0.071003\n",
       "1   -0.208723 -0.563710 -1.187523 -0.102120 -0.643111\n",
       "2    0.006831 -1.297260  0.847801 -0.202340  0.497309\n",
       "3    1.184229 -0.479856 -0.860750  0.099028 -0.349157\n",
       "4   -0.697772 -0.400648  0.985094 -0.634655 -0.025595\n",
       "..        ...       ...       ...       ...       ...\n",
       "995  0.103614  0.563295 -0.743256  0.580323  0.826171\n",
       "996  0.304813  0.612072  0.158199 -0.520818 -0.389017\n",
       "997  0.105779 -0.249088 -2.553960  1.087293 -0.236849\n",
       "998  1.566812 -0.743941  0.853120  0.099963 -0.405797\n",
       "999  0.503130  0.541977 -0.179517  0.742298  0.467929\n",
       "\n",
       "[1000 rows x 5 columns]"
      ]
     },
     "execution_count": 2,
     "metadata": {},
     "output_type": "execute_result"
    }
   ],
   "source": [
    "df"
   ]
  },
  {
   "cell_type": "code",
   "execution_count": 3,
   "id": "thirty-smart",
   "metadata": {},
   "outputs": [],
   "source": [
    "#Creating a function to get the mean score from a CV linear regression\n",
    "from sklearn.linear_model import LinearRegression\n",
    "from sklearn.model_selection import cross_validate\n",
    "\n",
    "def lr_cv_mean_score(X, y, n_cv):\n",
    "    \"\"\"Returns the mean score of a Linear Regression cross validation\"\"\"\n",
    "    \n",
    "    model = LinearRegression()\n",
    "    cv_results = cross_validate(model, X, y, cv=n_cv)\n",
    "    \n",
    "    return cv_results['test_score'].mean()\n",
    "\n"
   ]
  },
  {
   "cell_type": "code",
   "execution_count": 4,
   "id": "better-quest",
   "metadata": {},
   "outputs": [
    {
     "data": {
      "text/plain": [
       "0      0.433634\n",
       "1     -0.102120\n",
       "2     -0.202340\n",
       "3      0.099028\n",
       "4     -0.634655\n",
       "         ...   \n",
       "995    0.580323\n",
       "996   -0.520818\n",
       "997    1.087293\n",
       "998    0.099963\n",
       "999    0.742298\n",
       "Name: D, Length: 1000, dtype: float64"
      ]
     },
     "execution_count": 4,
     "metadata": {},
     "output_type": "execute_result"
    }
   ],
   "source": [
    "df['D']"
   ]
  },
  {
   "cell_type": "code",
   "execution_count": 5,
   "id": "detailed-porcelain",
   "metadata": {},
   "outputs": [],
   "source": [
    "X = df.drop(['E'], axis=1)\n",
    "y = df['E']"
   ]
  },
  {
   "cell_type": "code",
   "execution_count": 6,
   "id": "amateur-church",
   "metadata": {},
   "outputs": [
    {
     "data": {
      "text/plain": [
       "-0.042830931580942054"
      ]
     },
     "execution_count": 6,
     "metadata": {},
     "output_type": "execute_result"
    }
   ],
   "source": [
    "lr_cv_mean_score(X, y, 10)"
   ]
  },
  {
   "cell_type": "code",
   "execution_count": 7,
   "id": "greenhouse-solid",
   "metadata": {},
   "outputs": [
    {
     "data": {
      "text/plain": [
       "-0.042830931580942054"
      ]
     },
     "execution_count": 7,
     "metadata": {},
     "output_type": "execute_result"
    }
   ],
   "source": [
    "model = LinearRegression()\n",
    "cv_results = cross_validate(model, X, y, cv=10)\n",
    "cv_results['test_score'].mean()"
   ]
  },
  {
   "cell_type": "code",
   "execution_count": null,
   "id": "dated-quest",
   "metadata": {},
   "outputs": [],
   "source": []
  },
  {
   "cell_type": "code",
   "execution_count": 10,
   "id": "military-classification",
   "metadata": {},
   "outputs": [],
   "source": [
    "import toolbox\n",
    "from toolbox.lreg_cv_mscore import lreg_cv_mscore\n"
   ]
  },
  {
   "cell_type": "code",
   "execution_count": 11,
   "id": "accessible-polish",
   "metadata": {},
   "outputs": [
    {
     "data": {
      "text/plain": [
       "-0.042830931580942054"
      ]
     },
     "execution_count": 11,
     "metadata": {},
     "output_type": "execute_result"
    }
   ],
   "source": [
    "lreg_cv_mscore(X, y, 10)"
   ]
  },
  {
   "cell_type": "code",
   "execution_count": null,
   "id": "identical-might",
   "metadata": {},
   "outputs": [],
   "source": []
  }
 ],
 "metadata": {
  "kernelspec": {
   "display_name": "Python 3",
   "language": "python",
   "name": "python3"
  },
  "language_info": {
   "codemirror_mode": {
    "name": "ipython",
    "version": 3
   },
   "file_extension": ".py",
   "mimetype": "text/x-python",
   "name": "python",
   "nbconvert_exporter": "python",
   "pygments_lexer": "ipython3",
   "version": "3.8.6"
  }
 },
 "nbformat": 4,
 "nbformat_minor": 5
}
